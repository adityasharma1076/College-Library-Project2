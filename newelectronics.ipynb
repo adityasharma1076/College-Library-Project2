{
 "cells": [
  {
   "cell_type": "code",
   "execution_count": 1,
   "metadata": {},
   "outputs": [],
   "source": [
    "import bs4 \n",
    "import requests\n",
    "import pandas as pd\n",
    "import numpy as np\n",
    "import os\n",
    "import requests\n",
    "import re\n",
    "import datetime"
   ]
  },
  {
   "cell_type": "code",
   "execution_count": 2,
   "metadata": {},
   "outputs": [],
   "source": [
    "now = datetime.datetime.now()\n",
    "Today_date = now.strftime(\"%Y-%m-%d\")"
   ]
  },
  {
   "cell_type": "code",
   "execution_count": 10,
   "metadata": {},
   "outputs": [],
   "source": [
    "def complete_url(url):\n",
    "    return 'http://www.newelectronics.co.uk'+url"
   ]
  },
  {
   "cell_type": "code",
   "execution_count": 3,
   "metadata": {},
   "outputs": [],
   "source": [
    "url = 'http://www.newelectronics.co.uk/'\n",
    "res = requests.get(url,headers={'User-Agent': 'Mozilla/5.0'})\n",
    "soup = bs4.BeautifulSoup(res.text,'lxml')"
   ]
  },
  {
   "cell_type": "code",
   "execution_count": 13,
   "metadata": {},
   "outputs": [],
   "source": [
    "List = soup.find('ul',{'class':'nav'}).find('li',{'class':'linkfeatures dropdown'}).findAll('li')[2:]"
   ]
  },
  {
   "cell_type": "code",
   "execution_count": 26,
   "metadata": {},
   "outputs": [],
   "source": [
    "res = requests.get(\"http://www.newelectronics.co.uk/electronics-technology/directives-standards/\",headers={'User-Agent': 'Mozilla/5.0'})\n",
    "soup = bs4.BeautifulSoup(res.text,'lxml')"
   ]
  },
  {
   "cell_type": "code",
   "execution_count": 33,
   "metadata": {},
   "outputs": [
    {
     "data": {
      "text/plain": [
       "<tr>\n",
       "<td>\n",
       "<article itemscope=\"\" itemtype=\"http://schema.org/Article\">\n",
       "<div class=\"newsItem\">\n",
       "<h2 itemprop=\"headline\">\n",
       "<a href=\"/electronics-technology/connected-healthcare/220605/\" id=\"ContentPlaceHolder1_ContentPlaceHolder1_uiTechnology_uiArticleList_uiTitle_0\">Connected healthcare</a></h2>\n",
       "<p class=\"date hidden-phone\"><span itemprop=\"datePublished\">\n",
       "<span id=\"ContentPlaceHolder1_ContentPlaceHolder1_uiTechnology_uiArticleList_uiDate_0\">24/10/2019</span></span>\n",
       "</p>\n",
       "<a href=\"/electronics-technology/connected-healthcare/220605/\" id=\"ContentPlaceHolder1_ContentPlaceHolder1_uiTechnology_uiArticleList_uiArticleImageLink_0\">\n",
       "<span itemprop=\"thumbnailUrl\"><img align=\"left\" id=\"ContentPlaceHolder1_ContentPlaceHolder1_uiTechnology_uiArticleList_uiArticleImage_0\" src=\"/article-images/220605/digital.jpg?width=100&amp;height=75&amp;scale=canvas\"/></span>\n",
       "</a>\n",
       "<p itemprop=\"text\">\n",
       "<span id=\"ContentPlaceHolder1_ContentPlaceHolder1_uiTechnology_uiArticleList_uiSummary_0\">Connectivity throughout healthcare is yielding huge benefits for the industry and patients alike, and is a trend set to continue and accelerate.</span>\n",
       "</p>\n",
       "<div class=\"readArticle\">\n",
       "<a href=\"/electronics-technology/connected-healthcare/220605/\" id=\"ContentPlaceHolder1_ContentPlaceHolder1_uiTechnology_uiArticleList_uiMoreLink_0\">Read Article</a><span id=\"ContentPlaceHolder1_ContentPlaceHolder1_uiTechnology_uiArticleList_uiPipe_0\"></span>\n",
       "<a id=\"ContentPlaceHolder1_ContentPlaceHolder1_uiTechnology_uiArticleList_uiCommentLink_0\"><span id=\"ContentPlaceHolder1_ContentPlaceHolder1_uiTechnology_uiArticleList_uiCommentCount_0\"></span></a>\n",
       "</div>\n",
       "</div>\n",
       "</article>\n",
       "</td>\n",
       "</tr>"
      ]
     },
     "execution_count": 33,
     "metadata": {},
     "output_type": "execute_result"
    }
   ],
   "source": [
    "soup.findAll('section')[2].findAll('tr')[0]"
   ]
  },
  {
   "cell_type": "code",
   "execution_count": 39,
   "metadata": {},
   "outputs": [
    {
     "data": {
      "text/plain": [
       "'/electronics-technology/connected-healthcare/220605/'"
      ]
     },
     "execution_count": 39,
     "metadata": {},
     "output_type": "execute_result"
    }
   ],
   "source": [
    "soup.findAll('tr')[0].find('a')['href']"
   ]
  },
  {
   "cell_type": "code",
   "execution_count": 24,
   "metadata": {},
   "outputs": [
    {
     "data": {
      "text/plain": [
       "'/electronics-technology/microcontrollers/1/'"
      ]
     },
     "execution_count": 24,
     "metadata": {},
     "output_type": "execute_result"
    }
   ],
   "source": [
    "List[0].find('a')['href']+str(1)+'/'"
   ]
  },
  {
   "cell_type": "code",
   "execution_count": null,
   "metadata": {},
   "outputs": [],
   "source": [
    "res = requests.get(url+str(i)+'/',headers={'User-Agent': 'Mozilla/5.0'})"
   ]
  },
  {
   "cell_type": "code",
   "execution_count": null,
   "metadata": {},
   "outputs": [],
   "source": []
  },
  {
   "cell_type": "code",
   "execution_count": 98,
   "metadata": {},
   "outputs": [
    {
     "ename": "AttributeError",
     "evalue": "'NoneType' object has no attribute 'text'",
     "output_type": "error",
     "traceback": [
      "\u001b[1;31m---------------------------------------------------------------------------\u001b[0m",
      "\u001b[1;31mAttributeError\u001b[0m                            Traceback (most recent call last)",
      "\u001b[1;32m<ipython-input-98-e48e33a1d8ce>\u001b[0m in \u001b[0;36m<module>\u001b[1;34m()\u001b[0m\n\u001b[0;32m      1\u001b[0m \u001b[0mrecords\u001b[0m \u001b[1;33m=\u001b[0m \u001b[1;33m[\u001b[0m\u001b[1;33m]\u001b[0m\u001b[1;33m\u001b[0m\u001b[1;33m\u001b[0m\u001b[0m\n\u001b[0;32m      2\u001b[0m \u001b[1;32mfor\u001b[0m \u001b[0mitem\u001b[0m \u001b[1;32min\u001b[0m \u001b[0mList\u001b[0m\u001b[1;33m:\u001b[0m\u001b[1;33m\u001b[0m\u001b[1;33m\u001b[0m\u001b[0m\n\u001b[1;32m----> 3\u001b[1;33m     \u001b[0mcategory\u001b[0m \u001b[1;33m=\u001b[0m \u001b[0mitem\u001b[0m\u001b[1;33m.\u001b[0m\u001b[0mfind\u001b[0m\u001b[1;33m(\u001b[0m\u001b[1;34m'a'\u001b[0m\u001b[1;33m)\u001b[0m\u001b[1;33m.\u001b[0m\u001b[0mtext\u001b[0m\u001b[1;33m\u001b[0m\u001b[1;33m\u001b[0m\u001b[0m\n\u001b[0m\u001b[0;32m      4\u001b[0m     \u001b[0murl\u001b[0m \u001b[1;33m=\u001b[0m \u001b[0mcomplete_url\u001b[0m\u001b[1;33m(\u001b[0m\u001b[0mitem\u001b[0m\u001b[1;33m.\u001b[0m\u001b[0mfind\u001b[0m\u001b[1;33m(\u001b[0m\u001b[1;34m'a'\u001b[0m\u001b[1;33m)\u001b[0m\u001b[1;33m[\u001b[0m\u001b[1;34m'href'\u001b[0m\u001b[1;33m]\u001b[0m\u001b[1;33m)\u001b[0m\u001b[1;33m\u001b[0m\u001b[1;33m\u001b[0m\u001b[0m\n\u001b[0;32m      5\u001b[0m     \u001b[0mres\u001b[0m \u001b[1;33m=\u001b[0m \u001b[0mrequests\u001b[0m\u001b[1;33m.\u001b[0m\u001b[0mget\u001b[0m\u001b[1;33m(\u001b[0m\u001b[0murl\u001b[0m\u001b[1;33m,\u001b[0m\u001b[0mheaders\u001b[0m\u001b[1;33m=\u001b[0m\u001b[1;33m{\u001b[0m\u001b[1;34m'User-Agent'\u001b[0m\u001b[1;33m:\u001b[0m \u001b[1;34m'Mozilla/5.0'\u001b[0m\u001b[1;33m}\u001b[0m\u001b[1;33m)\u001b[0m\u001b[1;33m\u001b[0m\u001b[1;33m\u001b[0m\u001b[0m\n",
      "\u001b[1;31mAttributeError\u001b[0m: 'NoneType' object has no attribute 'text'"
     ]
    }
   ],
   "source": [
    "records = []\n",
    "for item in List:\n",
    "    category = item.find('a').text\n",
    "    url = complete_url(item.find('a')['href'])\n",
    "    res = requests.get(url,headers={'User-Agent': 'Mozilla/5.0'})\n",
    "    soup = bs4.BeautifulSoup(res.text,'lxml') \n",
    "    pages = soup.find('div',{'class':'pagination'}).findAll('a')[-1]['href'].split('/')[-2]\n",
    "\n",
    "    for i in range(1,int(pages)):\n",
    "        \n",
    "        res = requests.get(url+str(i),headers={'User-Agent': 'Mozilla/5.0'})\n",
    "        soup = bs4.BeautifulSoup(res.text,'lxml') \n",
    "        sub_list = soup.findAll('tr')\n",
    "\n",
    "        for sub_item in range(0,len(sub_list),2):\n",
    "            Source = 'www.newelectronics.co.uk'\n",
    "            Category = category\n",
    "            Heading = sub_list[sub_item].find('a').text\n",
    "            URL = complete_url(sub_list[sub_item].find('a')['href'])\n",
    "            Text = '-'\n",
    "            records.append((Source,Heading,Category,URL,Text))"
   ]
  },
  {
   "cell_type": "code",
   "execution_count": 101,
   "metadata": {},
   "outputs": [],
   "source": [
    "df = pd.DataFrame(records,columns=['Source','Heading','Category','URL','Text'])"
   ]
  },
  {
   "cell_type": "code",
   "execution_count": 103,
   "metadata": {},
   "outputs": [
    {
     "data": {
      "text/plain": [
       "Communications Technology    650\n",
       "FPGA / ASIC / DSP            416\n",
       "System Design                364\n",
       "Optoelectronics              364\n",
       "Power                        338\n",
       "Embedded                     260\n",
       "Research & Design            234\n",
       "Microcontrollers             208\n",
       "Test & Measurement           208\n",
       "EDA / PCB Design             208\n",
       "Mixed Signal & Analogue      182\n",
       "Directives & Standards       156\n",
       "Name: Category, dtype: int64"
      ]
     },
     "execution_count": 103,
     "metadata": {},
     "output_type": "execute_result"
    }
   ],
   "source": [
    "df['Category'].value_counts()"
   ]
  },
  {
   "cell_type": "code",
   "execution_count": 112,
   "metadata": {},
   "outputs": [],
   "source": [
    "def get_text(url):\n",
    "    try:\n",
    "        res = requests.get(url,headers={'User-Agent': 'Mozilla/5.0'})\n",
    "        soup = bs4.BeautifulSoup(res.text,'lxml') \n",
    "        article = soup.find('p',{'itemprop':'articleBody'}).text\n",
    "\n",
    "        article = article.replace(\"\\n\",' ')\n",
    "        article = article.replace(\"\\r\",' ')\n",
    "    except:\n",
    "        article = '-'\n",
    "    return article"
   ]
  },
  {
   "cell_type": "code",
   "execution_count": 114,
   "metadata": {},
   "outputs": [],
   "source": [
    "df['Text'] = df['URL'].apply(get_text)"
   ]
  },
  {
   "cell_type": "code",
   "execution_count": 120,
   "metadata": {},
   "outputs": [],
   "source": [
    "df.drop(df[df['Text']=='-'].index,inplace=True)"
   ]
  },
  {
   "cell_type": "code",
   "execution_count": 121,
   "metadata": {},
   "outputs": [],
   "source": [
    "df.reset_index(drop=True,inplace=True)"
   ]
  },
  {
   "cell_type": "code",
   "execution_count": 123,
   "metadata": {},
   "outputs": [],
   "source": [
    "df.to_csv('newelectronics.csv',index=False)"
   ]
  },
  {
   "cell_type": "code",
   "execution_count": 110,
   "metadata": {},
   "outputs": [
    {
     "data": {
      "text/plain": [
       "' The need to transfer ever larger data volumes more quickly – coupled with quality of service requirements and the use of multiple protocols – is fuelling demand for higher performance communications and telecommunications equipment. As a result, designers of such devices as switches, routers and multiplexers must turn to increasingly complex, high performance network components if they are to deliver the necessary bandwidth. And demand for increased bandwidth means that new optimised memory technologies are required.  Memory requirements Until recently, telecommunications and data communications applications have generally used the inexpensive technologies employed in computer cache memories. Packet based network speeds, for instance, have traditionally been slow enough that designers could use standard burst style srams. These memories, however, cannot match the performance demands of emerging applications.  For example, in the latest packet based communications systems, memory access will generally be required for three categories of operation: packet buffering; table storage; and fast lookup. As well as high speed, low latency operation, such operations typically need to turn around quickly from memory reading to memory writing and vice versa. Whilst designed for very fast read operations, the conventional synchronous memory used for cache applications has an inherent bus turnaround delay when switching between read/write modes.  Download pdf version of the Toshiba Tutorial  Click here to request this article by email  Go to the Toshiba website  '"
      ]
     },
     "execution_count": 110,
     "metadata": {},
     "output_type": "execute_result"
    }
   ],
   "source": [
    "get_text(\"http://www.newelectronics.co.uk/electronics-technology/bursting-through/5187/\")"
   ]
  },
  {
   "cell_type": "code",
   "execution_count": null,
   "metadata": {},
   "outputs": [],
   "source": []
  }
 ],
 "metadata": {
  "kernelspec": {
   "display_name": "Python 3",
   "language": "python",
   "name": "python3"
  },
  "language_info": {
   "codemirror_mode": {
    "name": "ipython",
    "version": 3
   },
   "file_extension": ".py",
   "mimetype": "text/x-python",
   "name": "python",
   "nbconvert_exporter": "python",
   "pygments_lexer": "ipython3",
   "version": "3.6.9"
  }
 },
 "nbformat": 4,
 "nbformat_minor": 2
}
