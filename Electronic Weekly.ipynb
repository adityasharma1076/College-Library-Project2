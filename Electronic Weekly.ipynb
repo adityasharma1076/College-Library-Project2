{
 "cells": [
  {
   "cell_type": "code",
   "execution_count": 1,
   "metadata": {},
   "outputs": [],
   "source": [
    "import bs4 \n",
    "import requests\n",
    "import pandas as pd\n",
    "import numpy as np\n",
    "import os\n",
    "import requests\n",
    "import re\n",
    "import datetime\n"
   ]
  },
  {
   "cell_type": "code",
   "execution_count": 2,
   "metadata": {},
   "outputs": [],
   "source": [
    "now = datetime.datetime.now()\n",
    "Today_date = now.strftime(\"%Y-%m-%d\")"
   ]
  },
  {
   "cell_type": "code",
   "execution_count": 3,
   "metadata": {},
   "outputs": [],
   "source": [
    "url = 'https://www.electronicsweekly.com/news/'\n",
    "res = requests.get(url,headers={'User-Agent': 'Mozilla/5.0'})\n",
    "soup = bs4.BeautifulSoup(res.text,'lxml')"
   ]
  },
  {
   "cell_type": "code",
   "execution_count": 65,
   "metadata": {},
   "outputs": [],
   "source": [
    "def listToString(s):   \n",
    "    str1 = \"\"  \n",
    "    \n",
    "    for ele in s:  \n",
    "        str1 += ele.text   \n",
    "    return str1  \n",
    "        "
   ]
  },
  {
   "cell_type": "code",
   "execution_count": 69,
   "metadata": {},
   "outputs": [],
   "source": [
    "def get_text(url):\n",
    "    res = requests.get(url,headers={'User-Agent': 'Mozilla/5.0'})\n",
    "    soup = bs4.BeautifulSoup(res.text,'lxml')\n",
    "    para = soup.find('div',{'class':'post-inner'}).find('div',{'class':'entry'}).findAll('p')\n",
    "    text = listToString(para)\n",
    "    \n",
    "    return text"
   ]
  },
  {
   "cell_type": "code",
   "execution_count": 8,
   "metadata": {},
   "outputs": [],
   "source": [
    "List = soup.find('li',{'id':'menu-item-445193'}).find('ul',{'class':'sub-menu'}).findAll('li')"
   ]
  },
  {
   "cell_type": "code",
   "execution_count": 11,
   "metadata": {},
   "outputs": [
    {
     "data": {
      "text/plain": [
       "<a href=\"https://www.electronicsweekly.com/market-sectors/automotive-electronics/\">Automotive Electronics</a>"
      ]
     },
     "execution_count": 11,
     "metadata": {},
     "output_type": "execute_result"
    }
   ],
   "source": [
    "List[0].find('a')"
   ]
  },
  {
   "cell_type": "code",
   "execution_count": 43,
   "metadata": {},
   "outputs": [],
   "source": [
    "records = []\n",
    "for item in List:\n",
    "    category = item.find('a').text\n",
    "    url = item.find('a')['href']\n",
    "    res = requests.get(url,headers={'User-Agent': 'Mozilla/5.0'})\n",
    "    soup = bs4.BeautifulSoup(res.text,'lxml') \n",
    "    pages = soup.find('span',{'class':'pages'}).text.split()[-1]\n",
    "    for i in range(0,int(pages)):\n",
    "        \n",
    "        res = requests.get(url+'/page/'+str(i),headers={'User-Agent': 'Mozilla/5.0'})\n",
    "        soup = bs4.BeautifulSoup(res.text,'lxml') \n",
    "        sub_list = soup.findAll('article',{'class':'item-list'})\n",
    "\n",
    "        for sub_item in sub_list:\n",
    "            Source = 'Electronics Weekly'\n",
    "            Category = category\n",
    "            Heading = sub_item.find('h2',{'class':'post-title'}).find('a').text\n",
    "            URL = sub_item.find('h2',{'class':'post-title'}).find('a')['href']\n",
    "            Text = '-'\n",
    "            records.append((Source,Heading,Category,URL,Text))"
   ]
  },
  {
   "cell_type": "code",
   "execution_count": 44,
   "metadata": {},
   "outputs": [],
   "source": [
    "df = pd.DataFrame(records,columns=['Source','Heading','Category','URL','Text'])"
   ]
  },
  {
   "cell_type": "code",
   "execution_count": 46,
   "metadata": {},
   "outputs": [],
   "source": [
    "#df.to_csv(\"Electronics Daily\",index=False)"
   ]
  },
  {
   "cell_type": "code",
   "execution_count": 47,
   "metadata": {},
   "outputs": [
    {
     "data": {
      "text/html": [
       "<div>\n",
       "<style scoped>\n",
       "    .dataframe tbody tr th:only-of-type {\n",
       "        vertical-align: middle;\n",
       "    }\n",
       "\n",
       "    .dataframe tbody tr th {\n",
       "        vertical-align: top;\n",
       "    }\n",
       "\n",
       "    .dataframe thead th {\n",
       "        text-align: right;\n",
       "    }\n",
       "</style>\n",
       "<table border=\"1\" class=\"dataframe\">\n",
       "  <thead>\n",
       "    <tr style=\"text-align: right;\">\n",
       "      <th></th>\n",
       "      <th>Source</th>\n",
       "      <th>Heading</th>\n",
       "      <th>Category</th>\n",
       "      <th>URL</th>\n",
       "      <th>Text</th>\n",
       "    </tr>\n",
       "  </thead>\n",
       "  <tbody>\n",
       "    <tr>\n",
       "      <th>0</th>\n",
       "      <td>Electronics Weekly</td>\n",
       "      <td>Chip inductors for automotive noise suppression</td>\n",
       "      <td>Automotive Electronics</td>\n",
       "      <td>https://www.electronicsweekly.com/news/product...</td>\n",
       "      <td>-</td>\n",
       "    </tr>\n",
       "    <tr>\n",
       "      <th>1</th>\n",
       "      <td>Electronics Weekly</td>\n",
       "      <td>Forbidden heat makes vehicle battery charge in...</td>\n",
       "      <td>Automotive Electronics</td>\n",
       "      <td>https://www.electronicsweekly.com/news/researc...</td>\n",
       "      <td>-</td>\n",
       "    </tr>\n",
       "    <tr>\n",
       "      <th>2</th>\n",
       "      <td>Electronics Weekly</td>\n",
       "      <td>Noise tolerant comparators work over wide temp...</td>\n",
       "      <td>Automotive Electronics</td>\n",
       "      <td>https://www.electronicsweekly.com/news/product...</td>\n",
       "      <td>-</td>\n",
       "    </tr>\n",
       "    <tr>\n",
       "      <th>3</th>\n",
       "      <td>Electronics Weekly</td>\n",
       "      <td>Suite of tools addresses ASIL-D safety design</td>\n",
       "      <td>Automotive Electronics</td>\n",
       "      <td>https://www.electronicsweekly.com/news/design/...</td>\n",
       "      <td>-</td>\n",
       "    </tr>\n",
       "    <tr>\n",
       "      <th>4</th>\n",
       "      <td>Electronics Weekly</td>\n",
       "      <td>GaN FET aids vehicle lidar systems’ accuracy</td>\n",
       "      <td>Automotive Electronics</td>\n",
       "      <td>https://www.electronicsweekly.com/market-secto...</td>\n",
       "      <td>-</td>\n",
       "    </tr>\n",
       "    <tr>\n",
       "      <th>...</th>\n",
       "      <td>...</td>\n",
       "      <td>...</td>\n",
       "      <td>...</td>\n",
       "      <td>...</td>\n",
       "      <td>...</td>\n",
       "    </tr>\n",
       "    <tr>\n",
       "      <th>3585</th>\n",
       "      <td>Electronics Weekly</td>\n",
       "      <td>Lambda lifts efficiency in off-line switching ...</td>\n",
       "      <td>Power</td>\n",
       "      <td>https://www.electronicsweekly.com/market-secto...</td>\n",
       "      <td>-</td>\n",
       "    </tr>\n",
       "    <tr>\n",
       "      <th>3586</th>\n",
       "      <td>Electronics Weekly</td>\n",
       "      <td>UK university adds to power engineering</td>\n",
       "      <td>Power</td>\n",
       "      <td>https://www.electronicsweekly.com/market-secto...</td>\n",
       "      <td>-</td>\n",
       "    </tr>\n",
       "    <tr>\n",
       "      <th>3587</th>\n",
       "      <td>Electronics Weekly</td>\n",
       "      <td>UK timing scheme cuts power and skew</td>\n",
       "      <td>Power</td>\n",
       "      <td>https://www.electronicsweekly.com/market-secto...</td>\n",
       "      <td>-</td>\n",
       "    </tr>\n",
       "    <tr>\n",
       "      <th>3588</th>\n",
       "      <td>Electronics Weekly</td>\n",
       "      <td>Power firm gets wafers in Europe</td>\n",
       "      <td>Power</td>\n",
       "      <td>https://www.electronicsweekly.com/market-secto...</td>\n",
       "      <td>-</td>\n",
       "    </tr>\n",
       "    <tr>\n",
       "      <th>3589</th>\n",
       "      <td>Electronics Weekly</td>\n",
       "      <td>Alcatel sells its power systems</td>\n",
       "      <td>Power</td>\n",
       "      <td>https://www.electronicsweekly.com/market-secto...</td>\n",
       "      <td>-</td>\n",
       "    </tr>\n",
       "  </tbody>\n",
       "</table>\n",
       "<p>3590 rows × 5 columns</p>\n",
       "</div>"
      ],
      "text/plain": [
       "                  Source                                            Heading  \\\n",
       "0     Electronics Weekly    Chip inductors for automotive noise suppression   \n",
       "1     Electronics Weekly  Forbidden heat makes vehicle battery charge in...   \n",
       "2     Electronics Weekly  Noise tolerant comparators work over wide temp...   \n",
       "3     Electronics Weekly      Suite of tools addresses ASIL-D safety design   \n",
       "4     Electronics Weekly       GaN FET aids vehicle lidar systems’ accuracy   \n",
       "...                  ...                                                ...   \n",
       "3585  Electronics Weekly  Lambda lifts efficiency in off-line switching ...   \n",
       "3586  Electronics Weekly            UK university adds to power engineering   \n",
       "3587  Electronics Weekly               UK timing scheme cuts power and skew   \n",
       "3588  Electronics Weekly                   Power firm gets wafers in Europe   \n",
       "3589  Electronics Weekly                    Alcatel sells its power systems   \n",
       "\n",
       "                    Category  \\\n",
       "0     Automotive Electronics   \n",
       "1     Automotive Electronics   \n",
       "2     Automotive Electronics   \n",
       "3     Automotive Electronics   \n",
       "4     Automotive Electronics   \n",
       "...                      ...   \n",
       "3585                   Power   \n",
       "3586                   Power   \n",
       "3587                   Power   \n",
       "3588                   Power   \n",
       "3589                   Power   \n",
       "\n",
       "                                                    URL Text  \n",
       "0     https://www.electronicsweekly.com/news/product...    -  \n",
       "1     https://www.electronicsweekly.com/news/researc...    -  \n",
       "2     https://www.electronicsweekly.com/news/product...    -  \n",
       "3     https://www.electronicsweekly.com/news/design/...    -  \n",
       "4     https://www.electronicsweekly.com/market-secto...    -  \n",
       "...                                                 ...  ...  \n",
       "3585  https://www.electronicsweekly.com/market-secto...    -  \n",
       "3586  https://www.electronicsweekly.com/market-secto...    -  \n",
       "3587  https://www.electronicsweekly.com/market-secto...    -  \n",
       "3588  https://www.electronicsweekly.com/market-secto...    -  \n",
       "3589  https://www.electronicsweekly.com/market-secto...    -  \n",
       "\n",
       "[3590 rows x 5 columns]"
      ]
     },
     "execution_count": 47,
     "metadata": {},
     "output_type": "execute_result"
    }
   ],
   "source": [
    "df"
   ]
  },
  {
   "cell_type": "code",
   "execution_count": 73,
   "metadata": {},
   "outputs": [],
   "source": [
    "df['Text'] = df['URL'].apply(get_text)"
   ]
  },
  {
   "cell_type": "code",
   "execution_count": 75,
   "metadata": {},
   "outputs": [],
   "source": [
    "df.to_csv(\"Electronics Daily.csv\",index=False)\n"
   ]
  },
  {
   "cell_type": "code",
   "execution_count": null,
   "metadata": {},
   "outputs": [],
   "source": []
  }
 ],
 "metadata": {
  "kernelspec": {
   "display_name": "Python 3",
   "language": "python",
   "name": "python3"
  },
  "language_info": {
   "codemirror_mode": {
    "name": "ipython",
    "version": 3
   },
   "file_extension": ".py",
   "mimetype": "text/x-python",
   "name": "python",
   "nbconvert_exporter": "python",
   "pygments_lexer": "ipython3",
   "version": "3.6.9"
  }
 },
 "nbformat": 4,
 "nbformat_minor": 2
}
