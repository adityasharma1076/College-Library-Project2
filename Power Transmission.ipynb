{
 "cells": [
  {
   "cell_type": "code",
   "execution_count": 1,
   "metadata": {},
   "outputs": [],
   "source": [
    "import bs4 \n",
    "import requests\n",
    "import pandas as pd\n",
    "import numpy as np\n",
    "import os\n",
    "import requests\n",
    "import re\n",
    "import datetime\n"
   ]
  },
  {
   "cell_type": "code",
   "execution_count": 2,
   "metadata": {},
   "outputs": [],
   "source": [
    "now = datetime.datetime.now()\n",
    "Today_date = now.strftime(\"%Y-%m-%d\")"
   ]
  },
  {
   "cell_type": "code",
   "execution_count": 3,
   "metadata": {},
   "outputs": [],
   "source": [
    "url = 'https://www.powertransmission.com/'\n",
    "res = requests.get(url,headers={'User-Agent': 'Mozilla/5.0'})\n",
    "soup = bs4.BeautifulSoup(res.text,'lxml')"
   ]
  },
  {
   "cell_type": "code",
   "execution_count": 4,
   "metadata": {},
   "outputs": [],
   "source": [
    "def complete_url(url):\n",
    "    return ' http://www.powertransmission.com'+url"
   ]
  },
  {
   "cell_type": "code",
   "execution_count": 5,
   "metadata": {},
   "outputs": [],
   "source": [
    "List = soup.find('ul',{'class':'menu'}).find('ul',{'class':'sub-menu'}).findAll('li')"
   ]
  },
  {
   "cell_type": "code",
   "execution_count": 6,
   "metadata": {},
   "outputs": [],
   "source": [
    "records = []\n",
    "for item in List[:4]:\n",
    "    category = item.find('a').text\n",
    "    url = item.find('a')['href']\n",
    "    res = requests.get(url,headers={'User-Agent': 'Mozilla/5.0'})\n",
    "    soup = bs4.BeautifulSoup(res.text,'lxml') \n",
    "    sub_list = soup.find('div',{'class':'panel'}).findAll('p')\n",
    "\n",
    "    for i in range(2,len(sub_list[1:]),2):\n",
    "        try:\n",
    "            Source = 'Power Transmissiom'\n",
    "            Category = category\n",
    "            Heading = sub_list[i].find('a').text\n",
    "            URL = complete_url(sub_list[i].find('a')['href'])\n",
    "            Text = '-'\n",
    "            records.append((Source,Heading,Category,URL,Text))\n",
    "        except:\n",
    "            i=i+1\n",
    "            continue"
   ]
  },
  {
   "cell_type": "code",
   "execution_count": 7,
   "metadata": {},
   "outputs": [
    {
     "data": {
      "text/plain": [
       "508"
      ]
     },
     "execution_count": 7,
     "metadata": {},
     "output_type": "execute_result"
    }
   ],
   "source": [
    "len(records)"
   ]
  },
  {
   "cell_type": "code",
   "execution_count": 8,
   "metadata": {},
   "outputs": [],
   "source": [
    "df1 = pd.DataFrame(records,columns=['Source','Heading','Category','URL','Text'])"
   ]
  },
  {
   "cell_type": "code",
   "execution_count": 9,
   "metadata": {},
   "outputs": [
    {
     "data": {
      "text/plain": [
       "Design Engineering    235\n",
       "Gear Drives           106\n",
       "Couplings             100\n",
       "Bearings               67\n",
       "Name: Category, dtype: int64"
      ]
     },
     "execution_count": 9,
     "metadata": {},
     "output_type": "execute_result"
    }
   ],
   "source": [
    "df1['Category'].value_counts()"
   ]
  },
  {
   "cell_type": "code",
   "execution_count": 10,
   "metadata": {},
   "outputs": [],
   "source": [
    "record2 = []\n",
    "for item in List[4:]:\n",
    "    category = item.find('a').text\n",
    "    url = item.find('a')['href']\n",
    "    res = requests.get(url,headers={'User-Agent': 'Mozilla/5.0'})\n",
    "    soup = bs4.BeautifulSoup(res.text,'lxml') \n",
    "    sub_list = soup.find('div',{'class':'panel'}).findAll('p')\n",
    "\n",
    "    for i in range(3,len(sub_list[1:]),2):\n",
    "        try:\n",
    "            Source = 'Power Transmissiom'\n",
    "            Category = category\n",
    "            Heading = sub_list[i].find('a').text\n",
    "            URL = complete_url(sub_list[i].find('a')['href'])\n",
    "            Text = '-'\n",
    "            record2.append((Source,Heading,Category,URL,Text))\n",
    "        except:\n",
    "            i=i+1\n",
    "            continue"
   ]
  },
  {
   "cell_type": "code",
   "execution_count": 11,
   "metadata": {},
   "outputs": [],
   "source": [
    "df2 = pd.DataFrame(record2,columns=['Source','Heading','Category','URL','Text'])"
   ]
  },
  {
   "cell_type": "code",
   "execution_count": 12,
   "metadata": {},
   "outputs": [
    {
     "data": {
      "text/plain": [
       "Motors            245\n",
       "Motion Control    160\n",
       "Gears             130\n",
       "Software           56\n",
       "Name: Category, dtype: int64"
      ]
     },
     "execution_count": 12,
     "metadata": {},
     "output_type": "execute_result"
    }
   ],
   "source": [
    "df2['Category'].value_counts()"
   ]
  },
  {
   "cell_type": "code",
   "execution_count": 13,
   "metadata": {},
   "outputs": [],
   "source": [
    "df = pd.concat([df1[1:],df2[1:]])"
   ]
  },
  {
   "cell_type": "code",
   "execution_count": 14,
   "metadata": {},
   "outputs": [],
   "source": [
    "df.reset_index(drop=True,inplace=True)"
   ]
  },
  {
   "cell_type": "code",
   "execution_count": 15,
   "metadata": {},
   "outputs": [],
   "source": [
    "def get_text(url):\n",
    "\n",
    "    try:\n",
    "        res = requests.get(url,headers={'User-Agent': 'Mozilla/5.0'})\n",
    "        soup = bs4.BeautifulSoup(res.text,'lxml')\n",
    "        txt_raw =soup.find('div',{'class':'article-head'}).findAll('p')\n",
    "        i=0\n",
    "        length=0\n",
    "        for para in txt_raw:\n",
    "            if (length < len(para.text)):\n",
    "                maxi = i\n",
    "                length = len(para.text)\n",
    "            i=i+1\n",
    "        text = txt_raw[maxi].text\n",
    "    except:\n",
    "        try:\n",
    "            res = requests.get(url,headers={'User-Agent': 'Mozilla/5.0'})\n",
    "            soup = bs4.BeautifulSoup(res.text,'lxml')\n",
    "        #    res = requests.get(url,headers={'User-Agent': 'Mozilla/5.0'})\n",
    "         #   soup = bs4.BeautifulSoup(res.text,'lxml')\n",
    "            txt_raw =soup.find('div',{'class':'panel'}).findAll('p')\n",
    "            gg = str()\n",
    "            for para in txt_raw:\n",
    "                gg = gg +' ' +str(para.text)\n",
    "            gg = gg.replace('\\xa0',' ')\n",
    "            text = gg\n",
    "        except:\n",
    "            text = '-'\n",
    "    return text"
   ]
  },
  {
   "cell_type": "code",
   "execution_count": 16,
   "metadata": {
    "scrolled": false
   },
   "outputs": [],
   "source": [
    "df['Text'] = df['URL'].apply(get_text)"
   ]
  },
  {
   "cell_type": "code",
   "execution_count": 23,
   "metadata": {},
   "outputs": [],
   "source": [
    "blank = df[df['Text']=='  ' ]\n",
    "df = df[df['Text']!='  ']"
   ]
  },
  {
   "cell_type": "code",
   "execution_count": 33,
   "metadata": {},
   "outputs": [],
   "source": [
    "def fix_URL(URL):\n",
    "    URL = URL[1:-1]\n",
    "    \n",
    "    return URL\n",
    "blank['URL'] = blank['URL'].apply(fix_URL)"
   ]
  },
  {
   "cell_type": "code",
   "execution_count": 60,
   "metadata": {},
   "outputs": [],
   "source": [
    "def get_text_blank(url):\n",
    "    \n",
    "        res = requests.get(url,headers={'User-Agent': 'Mozilla/5.0'})\n",
    "        soup = bs4.BeautifulSoup(res.text,'lxml')\n",
    "        text_list = soup.find('div',{'class':'panel'}).findAll('div',{'class':'photo'})\n",
    "        text = ''\n",
    "        for txt in text_list:\n",
    "            text= text+txt.text\n",
    "        text = text.replace('\\n','')\n",
    "        text = text.split('—')[1]\n",
    "        text = text.split('URL')[0]\n",
    "        return text"
   ]
  },
  {
   "cell_type": "code",
   "execution_count": 61,
   "metadata": {},
   "outputs": [],
   "source": [
    "blank['Text'] = blank['URL'].apply(get_text_blank)"
   ]
  },
  {
   "cell_type": "code",
   "execution_count": 62,
   "metadata": {},
   "outputs": [
    {
     "data": {
      "text/html": [
       "<div>\n",
       "<style scoped>\n",
       "    .dataframe tbody tr th:only-of-type {\n",
       "        vertical-align: middle;\n",
       "    }\n",
       "\n",
       "    .dataframe tbody tr th {\n",
       "        vertical-align: top;\n",
       "    }\n",
       "\n",
       "    .dataframe thead th {\n",
       "        text-align: right;\n",
       "    }\n",
       "</style>\n",
       "<table border=\"1\" class=\"dataframe\">\n",
       "  <thead>\n",
       "    <tr style=\"text-align: right;\">\n",
       "      <th></th>\n",
       "      <th>Source</th>\n",
       "      <th>Heading</th>\n",
       "      <th>Category</th>\n",
       "      <th>URL</th>\n",
       "      <th>Text</th>\n",
       "    </tr>\n",
       "  </thead>\n",
       "  <tbody>\n",
       "    <tr>\n",
       "      <th>1</th>\n",
       "      <td>Power Transmissiom</td>\n",
       "      <td>4 SKF Offers Sour Gas Compressor Bearings</td>\n",
       "      <td>Bearings</td>\n",
       "      <td>http://www.powertransmission.com/news/4999/SKF...</td>\n",
       "      <td>SKF recently announced the inclusion of SKF so...</td>\n",
       "    </tr>\n",
       "    <tr>\n",
       "      <th>2</th>\n",
       "      <td>Power Transmissiom</td>\n",
       "      <td>6 Bearings and Balls for Turbine Flow Meters</td>\n",
       "      <td>Bearings</td>\n",
       "      <td>http://www.powertransmission.com/news/2812/Bea...</td>\n",
       "      <td>The Boca Bearing Company recently announced a ...</td>\n",
       "    </tr>\n",
       "    <tr>\n",
       "      <th>10</th>\n",
       "      <td>Power Transmissiom</td>\n",
       "      <td>22 SKF Introduces Carb Roller Bearings</td>\n",
       "      <td>Bearings</td>\n",
       "      <td>http://www.powertransmission.com/news/5103/SKF...</td>\n",
       "      <td>SKF Carb toroidal roller bearings introduce ro...</td>\n",
       "    </tr>\n",
       "    <tr>\n",
       "      <th>47</th>\n",
       "      <td>Power Transmissiom</td>\n",
       "      <td>96 Pacamor Kubar Bearings Purchased by Two Com...</td>\n",
       "      <td>Bearings</td>\n",
       "      <td>http://www.powertransmission.com/news/6686/Pac...</td>\n",
       "      <td>Pacamor Kubar Bearings (PKB) was recently been...</td>\n",
       "    </tr>\n",
       "    <tr>\n",
       "      <th>50</th>\n",
       "      <td>Power Transmissiom</td>\n",
       "      <td>102 KISSsoft and SKF Collaborate on Rolling Be...</td>\n",
       "      <td>Bearings</td>\n",
       "      <td>http://www.powertransmission.com/news/7290/KIS...</td>\n",
       "      <td>The new version of KISSsoft 03/2016 now contai...</td>\n",
       "    </tr>\n",
       "  </tbody>\n",
       "</table>\n",
       "</div>"
      ],
      "text/plain": [
       "                Source                                            Heading  \\\n",
       "1   Power Transmissiom          4 SKF Offers Sour Gas Compressor Bearings   \n",
       "2   Power Transmissiom       6 Bearings and Balls for Turbine Flow Meters   \n",
       "10  Power Transmissiom            22 SKF Introduces Carb Roller Bearings    \n",
       "47  Power Transmissiom  96 Pacamor Kubar Bearings Purchased by Two Com...   \n",
       "50  Power Transmissiom  102 KISSsoft and SKF Collaborate on Rolling Be...   \n",
       "\n",
       "    Category                                                URL  \\\n",
       "1   Bearings  http://www.powertransmission.com/news/4999/SKF...   \n",
       "2   Bearings  http://www.powertransmission.com/news/2812/Bea...   \n",
       "10  Bearings  http://www.powertransmission.com/news/5103/SKF...   \n",
       "47  Bearings  http://www.powertransmission.com/news/6686/Pac...   \n",
       "50  Bearings  http://www.powertransmission.com/news/7290/KIS...   \n",
       "\n",
       "                                                 Text  \n",
       "1   SKF recently announced the inclusion of SKF so...  \n",
       "2   The Boca Bearing Company recently announced a ...  \n",
       "10  SKF Carb toroidal roller bearings introduce ro...  \n",
       "47  Pacamor Kubar Bearings (PKB) was recently been...  \n",
       "50  The new version of KISSsoft 03/2016 now contai...  "
      ]
     },
     "execution_count": 62,
     "metadata": {},
     "output_type": "execute_result"
    }
   ],
   "source": [
    "blank.head()"
   ]
  },
  {
   "cell_type": "code",
   "execution_count": 65,
   "metadata": {},
   "outputs": [],
   "source": [
    "df = df[df['Text']!='  ']\n",
    "df = pd.concat([df,blank])\n"
   ]
  },
  {
   "cell_type": "code",
   "execution_count": 67,
   "metadata": {},
   "outputs": [],
   "source": [
    "df.reset_index(drop=True,inplace=True)"
   ]
  },
  {
   "cell_type": "code",
   "execution_count": 68,
   "metadata": {},
   "outputs": [],
   "source": [
    "df.to_csv('Power Transmission.csv',index=False)"
   ]
  },
  {
   "cell_type": "code",
   "execution_count": null,
   "metadata": {},
   "outputs": [],
   "source": []
  }
 ],
 "metadata": {
  "kernelspec": {
   "display_name": "Python 3",
   "language": "python",
   "name": "python3"
  },
  "language_info": {
   "codemirror_mode": {
    "name": "ipython",
    "version": 3
   },
   "file_extension": ".py",
   "mimetype": "text/x-python",
   "name": "python",
   "nbconvert_exporter": "python",
   "pygments_lexer": "ipython3",
   "version": "3.6.9"
  }
 },
 "nbformat": 4,
 "nbformat_minor": 2
}
